{
 "cells": [
  {
   "cell_type": "markdown",
   "metadata": {},
   "source": [
    "# Notes"
   ]
  },
  {
   "cell_type": "markdown",
   "metadata": {},
   "source": [
    "### Section 133: K-Means Clustering Intuition\n",
    "- To discover the clusters in a group\n",
    "- Steps\n",
    "    - 1. Choose the number of clusters (choosing the number of clusters requries additional work)\n",
    "    - 2. Given the number of clusters, you must choose the points (Centroids). This does not have to be from your dataset)\n",
    "    - 3. Assign each observation to the closest centroid (Euclidean Distance)\n",
    "    - 4. After you have all your datapoint, recalculate the centroid (using the mean?)\n",
    "    - 5. Reassign the new datapoint accordingly the new centroid\n",
    "- Remember, the datapoints do not have to be part of the dataset\n",
    "- The new centroid is the \"center of gravity of the datapoints\""
   ]
  },
  {
   "cell_type": "markdown",
   "metadata": {},
   "source": [
    "### Section 134: K-Means Random Initialization Trap\n",
    "- What would happen if we had a bad initialisation?\n",
    "    - You can potentially have different clusters\n",
    "- Solution\n",
    "    - KMeans++ Algorithm    "
   ]
  },
  {
   "cell_type": "markdown",
   "metadata": {},
   "source": [
    "### Section 135: K-Means Selecting The Number Of Clusters\n",
    "- How can we tell us that a three clusters performs better than a two clusters?\n",
    "    - **Formula: Within Clusters Sum of Squares**\n",
    "<img src=\"../../images/AZLearning_Clusters1.png\" alt=\"Drawing\" style=\"width: 700px;\"/>\n",
    "    \n",
    "    - The formula is fairly simple. You find the total summation of the distance btw the points and their respective centroid. Then squaring it. Then adding them all the points of that specific cluster. Then you add all the clusters.\n",
    "    - When you have a few clusters, the entire summation will be large if the distance. As we decrease the number of clusters, the points will get closer to the centroid, thus decreasing the entire summation.\n",
    "    \n",
    "    \n",
    "- But what is the limit? (How much clusters can you continue creating)\n",
    "    - The maxiumum of clusters is the total number of observations or points (theoritically). The WCSS will equal 0.\n",
    "    - But you must always remember that it comes at a sacrifice!\n",
    "<img src=\"../../images/AZLearning_Clusters2.png\" alt=\"Drawing\" style=\"width: 400px;\"/>\n",
    "    - At the beginning, there were huge jumps!\n",
    "    - As the line continues to go down, the improvement is not as great\n",
    "    - Use the elbow method, and look for the point where it does not help the model as much as before. \n",
    "    - But the elbow method will not always be very visible!\n",
    "    \n",
    "    \n",
    "    "
   ]
  }
 ],
 "metadata": {
  "kernelspec": {
   "display_name": "Python 3",
   "language": "python",
   "name": "python3"
  },
  "language_info": {
   "codemirror_mode": {
    "name": "ipython",
    "version": 3
   },
   "file_extension": ".py",
   "mimetype": "text/x-python",
   "name": "python",
   "nbconvert_exporter": "python",
   "pygments_lexer": "ipython3",
   "version": "3.6.5"
  }
 },
 "nbformat": 4,
 "nbformat_minor": 2
}

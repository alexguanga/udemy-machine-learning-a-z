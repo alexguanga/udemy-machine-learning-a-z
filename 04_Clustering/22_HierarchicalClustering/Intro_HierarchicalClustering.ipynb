{
 "cells": [
  {
   "cell_type": "markdown",
   "metadata": {},
   "source": [
    "# Hierarchical Clustering"
   ]
  },
  {
   "cell_type": "markdown",
   "metadata": {},
   "source": [
    "### Section 139: Hierarchical Clustering Intuition\n",
    "- There are two types of hierarchical clustering\n",
    "    - Agglomerative - Bottom Up approach\n",
    "    - Divisive - Top Bottom approach\n",
    "- Agglomerative\n",
    "    - Step 1: Make a data point a single-point clusters - that forms N clusters\n",
    "    - Step 2: Take the two closest data points and make them one cluster - that forms N - 1 clusters\n",
    "    - Step 3: Take the two closest clusters and make them one cluster - that forms N - 2 clusters\n",
    "    - Step 4: Repeat until there is one cluster\n",
    "- Measuring the distance btw. two points can be straightforward. However, measuring the distance between two clusters can be a bit more different!\n",
    "- How to measure the distance btw both clusters?\n",
    "    - Option 1: Distance btw the closest points\n",
    "    - Option 2: Distance btw the further points\n",
    "    - Option 3: Average distance btw all the possibilties\n",
    "    - Option 4: Distance btw the centroids\n",
    "- Why don't you combine all the points to one clusters? Apparently, the process of combining the clusters has use!"
   ]
  },
  {
   "cell_type": "markdown",
   "metadata": {},
   "source": [
    "### Section 140: Hierarchical Clustering How Dendrograms Work\n",
    "- The dendogram is like the memory (how we dividing the clusters)\n",
    "<img src=\"../../images/AZ_Dendros.png\" alt=\"Drawing\" style=\"width: 700px;\"/>\n",
    "<img src=\"../../images/AZ_Dendros2.png\" alt=\"Drawing\" style=\"width: 700px;\"/>\n",
    "- The height represents the disimilarites (or the Eucidean Distance)\n",
    "- Remember that each individual is its own clusters!\n",
    "- Notice how the graph changes when we combine clusters (of more than one point) with a one-data clusters\n",
    "<img src=\"../../images/AZ_Dendros3.png\" alt=\"Drawing\" style=\"width: 700px;\"/>\n",
    "<img src=\"../../images/AZ_Dendros4.png\" alt=\"Drawing\" style=\"width: 700px;\"/>\n",
    "<img src=\"../../images/AZ_Dendros5.png\" alt=\"Drawing\" style=\"width: 700px;\"/>\n"
   ]
  },
  {
   "cell_type": "markdown",
   "metadata": {},
   "source": [
    "### Section 141: Hierarchical Clustering Using Dendrograms\n",
    "- Noticed in the image below, we set a threshold that is set as constraint. Any cluster that are above the threshold should not be considered as a cluster. The image below displays the constraint!\n",
    "<img src=\"../../images/AZ_Dendros6.png\" alt=\"Drawing\" style=\"width: 700px;\"/>\n",
    "\n",
    "- So where should the threshold be?\n",
    "    - One method is looking is to look for the longest vertical line that does not cross any extended horizontal line.\n",
    "    - Your threshold should be in within these vertical lines\n",
    "    - Your vertical line should not be crossed by any horizontal line\n",
    "    - The vertical line can also be considered if we use it from below any horizontal lines\n",
    "<img src=\"../../images/AZ_Dendros7.png\" alt=\"Drawing\" style=\"width: 700px;\"/>\n"
   ]
  }
 ],
 "metadata": {
  "kernelspec": {
   "display_name": "Python 3",
   "language": "python",
   "name": "python3"
  },
  "language_info": {
   "codemirror_mode": {
    "name": "ipython",
    "version": 3
   },
   "file_extension": ".py",
   "mimetype": "text/x-python",
   "name": "python",
   "nbconvert_exporter": "python",
   "pygments_lexer": "ipython3",
   "version": "3.6.5"
  }
 },
 "nbformat": 4,
 "nbformat_minor": 2
}

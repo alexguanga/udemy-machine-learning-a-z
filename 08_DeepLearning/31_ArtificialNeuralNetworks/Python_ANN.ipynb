{
 "cells": [
  {
   "cell_type": "code",
   "execution_count": 1,
   "metadata": {
    "collapsed": true
   },
   "outputs": [],
   "source": [
    "import numpy as np\n",
    "import pandas as pd\n",
    "from pandas import DataFrame, Series\n",
    "\n",
    "import matplotlib.pyplot as plt\n",
    "import seaborn as sns\n",
    "sns.set_style('whitegrid')\n",
    "\n",
    "%matplotlib inline"
   ]
  },
  {
   "cell_type": "code",
   "execution_count": 35,
   "metadata": {
    "collapsed": true
   },
   "outputs": [],
   "source": [
    "# Importing the dataset\n",
    "df = pd.read_csv(\"../../archive/Churn_Modelling.csv\")"
   ]
  },
  {
   "cell_type": "code",
   "execution_count": 29,
   "metadata": {},
   "outputs": [
    {
     "data": {
      "text/html": [
       "<div>\n",
       "<style scoped>\n",
       "    .dataframe tbody tr th:only-of-type {\n",
       "        vertical-align: middle;\n",
       "    }\n",
       "\n",
       "    .dataframe tbody tr th {\n",
       "        vertical-align: top;\n",
       "    }\n",
       "\n",
       "    .dataframe thead th {\n",
       "        text-align: right;\n",
       "    }\n",
       "</style>\n",
       "<table border=\"1\" class=\"dataframe\">\n",
       "  <thead>\n",
       "    <tr style=\"text-align: right;\">\n",
       "      <th></th>\n",
       "      <th>RowNumber</th>\n",
       "      <th>CustomerId</th>\n",
       "      <th>Surname</th>\n",
       "      <th>CreditScore</th>\n",
       "      <th>Geography</th>\n",
       "      <th>Gender</th>\n",
       "      <th>Age</th>\n",
       "      <th>Tenure</th>\n",
       "      <th>Balance</th>\n",
       "      <th>NumOfProducts</th>\n",
       "      <th>HasCrCard</th>\n",
       "      <th>IsActiveMember</th>\n",
       "      <th>EstimatedSalary</th>\n",
       "      <th>Exited</th>\n",
       "    </tr>\n",
       "  </thead>\n",
       "  <tbody>\n",
       "    <tr>\n",
       "      <th>0</th>\n",
       "      <td>1</td>\n",
       "      <td>15634602</td>\n",
       "      <td>Hargrave</td>\n",
       "      <td>619</td>\n",
       "      <td>France</td>\n",
       "      <td>Female</td>\n",
       "      <td>42</td>\n",
       "      <td>2</td>\n",
       "      <td>0.00</td>\n",
       "      <td>1</td>\n",
       "      <td>1</td>\n",
       "      <td>1</td>\n",
       "      <td>101348.88</td>\n",
       "      <td>1</td>\n",
       "    </tr>\n",
       "    <tr>\n",
       "      <th>1</th>\n",
       "      <td>2</td>\n",
       "      <td>15647311</td>\n",
       "      <td>Hill</td>\n",
       "      <td>608</td>\n",
       "      <td>Spain</td>\n",
       "      <td>Female</td>\n",
       "      <td>41</td>\n",
       "      <td>1</td>\n",
       "      <td>83807.86</td>\n",
       "      <td>1</td>\n",
       "      <td>0</td>\n",
       "      <td>1</td>\n",
       "      <td>112542.58</td>\n",
       "      <td>0</td>\n",
       "    </tr>\n",
       "    <tr>\n",
       "      <th>2</th>\n",
       "      <td>3</td>\n",
       "      <td>15619304</td>\n",
       "      <td>Onio</td>\n",
       "      <td>502</td>\n",
       "      <td>France</td>\n",
       "      <td>Female</td>\n",
       "      <td>42</td>\n",
       "      <td>8</td>\n",
       "      <td>159660.80</td>\n",
       "      <td>3</td>\n",
       "      <td>1</td>\n",
       "      <td>0</td>\n",
       "      <td>113931.57</td>\n",
       "      <td>1</td>\n",
       "    </tr>\n",
       "    <tr>\n",
       "      <th>3</th>\n",
       "      <td>4</td>\n",
       "      <td>15701354</td>\n",
       "      <td>Boni</td>\n",
       "      <td>699</td>\n",
       "      <td>France</td>\n",
       "      <td>Female</td>\n",
       "      <td>39</td>\n",
       "      <td>1</td>\n",
       "      <td>0.00</td>\n",
       "      <td>2</td>\n",
       "      <td>0</td>\n",
       "      <td>0</td>\n",
       "      <td>93826.63</td>\n",
       "      <td>0</td>\n",
       "    </tr>\n",
       "    <tr>\n",
       "      <th>4</th>\n",
       "      <td>5</td>\n",
       "      <td>15737888</td>\n",
       "      <td>Mitchell</td>\n",
       "      <td>850</td>\n",
       "      <td>Spain</td>\n",
       "      <td>Female</td>\n",
       "      <td>43</td>\n",
       "      <td>2</td>\n",
       "      <td>125510.82</td>\n",
       "      <td>1</td>\n",
       "      <td>1</td>\n",
       "      <td>1</td>\n",
       "      <td>79084.10</td>\n",
       "      <td>0</td>\n",
       "    </tr>\n",
       "  </tbody>\n",
       "</table>\n",
       "</div>"
      ],
      "text/plain": [
       "   RowNumber  CustomerId   Surname  CreditScore Geography  Gender  Age  \\\n",
       "0          1    15634602  Hargrave          619    France  Female   42   \n",
       "1          2    15647311      Hill          608     Spain  Female   41   \n",
       "2          3    15619304      Onio          502    France  Female   42   \n",
       "3          4    15701354      Boni          699    France  Female   39   \n",
       "4          5    15737888  Mitchell          850     Spain  Female   43   \n",
       "\n",
       "   Tenure    Balance  NumOfProducts  HasCrCard  IsActiveMember  \\\n",
       "0       2       0.00              1          1               1   \n",
       "1       1   83807.86              1          0               1   \n",
       "2       8  159660.80              3          1               0   \n",
       "3       1       0.00              2          0               0   \n",
       "4       2  125510.82              1          1               1   \n",
       "\n",
       "   EstimatedSalary  Exited  \n",
       "0        101348.88       1  \n",
       "1        112542.58       0  \n",
       "2        113931.57       1  \n",
       "3         93826.63       0  \n",
       "4         79084.10       0  "
      ]
     },
     "execution_count": 29,
     "metadata": {},
     "output_type": "execute_result"
    }
   ],
   "source": [
    "df.head()"
   ]
  },
  {
   "cell_type": "code",
   "execution_count": 4,
   "metadata": {
    "collapsed": true
   },
   "outputs": [],
   "source": [
    "# Looking at customers at a bank (They have measuring unusual churn rates: people are leaving the bank)\n",
    "# 1: person stayed in the bank\n",
    "# 0: person left the bank\n",
    "# We have to predict models of potential people who might leave the bank!\n",
    "# We will use indepedent variables to predict whether people will leave the bank"
   ]
  },
  {
   "cell_type": "code",
   "execution_count": 39,
   "metadata": {
    "collapsed": true
   },
   "outputs": [],
   "source": [
    "# Making Y-Variable\n",
    "y = df['Exited']\n",
    "\n",
    "# Including all but one column\n",
    "Xs = df.iloc[:, 3:13]"
   ]
  },
  {
   "cell_type": "code",
   "execution_count": 41,
   "metadata": {
    "collapsed": true
   },
   "outputs": [],
   "source": [
    "from sklearn.preprocessing import LabelEncoder, OneHotEncoder\n",
    "\n",
    "labelencoder_X_geo = LabelEncoder()\n",
    "Xs.loc[:, \"Geography\"] = labelencoder_X_geo.fit_transform(Xs.loc[:, \"Geography\"])\n",
    "labelencoder_X_gender = LabelEncoder()\n",
    "Xs.loc[:, \"Gender\"] = labelencoder_X_gender.fit_transform(Xs.loc[:, \"Gender\"])\n",
    "\n",
    "onehotencoder = OneHotEncoder(categorical_features=[Xs.columns.get_loc(\"Geography\")])\n",
    "Xs = onehotencoder.fit_transform(Xs).toarray()"
   ]
  },
  {
   "cell_type": "code",
   "execution_count": 45,
   "metadata": {
    "collapsed": true
   },
   "outputs": [],
   "source": [
    "# Removing one of the dummy variables for the country\n",
    "Xs = Xs[:, 1:]"
   ]
  },
  {
   "cell_type": "code",
   "execution_count": 47,
   "metadata": {
    "collapsed": true
   },
   "outputs": [],
   "source": [
    "# Splitting the data set into training and testing\n",
    "\n",
    "from sklearn.model_selection import train_test_split\n",
    "X_train, X_test, y_train, y_test = train_test_split(Xs, y, test_size=0.2, random_state=0)"
   ]
  },
  {
   "cell_type": "code",
   "execution_count": 48,
   "metadata": {
    "collapsed": true
   },
   "outputs": [],
   "source": [
    "# Feature Scaling\n",
    "from sklearn.preprocessing import StandardScaler\n",
    "\n",
    "sc_X = StandardScaler()\n",
    "X_train = sc_X.fit_transform(X_train)\n",
    "\n",
    "# We are only using the transform and not the fit transform because we already fit the model\n",
    "X_test = sc_X.transform(X_test)"
   ]
  },
  {
   "cell_type": "code",
   "execution_count": 49,
   "metadata": {},
   "outputs": [
    {
     "data": {
      "text/html": [
       "<div>\n",
       "<style scoped>\n",
       "    .dataframe tbody tr th:only-of-type {\n",
       "        vertical-align: middle;\n",
       "    }\n",
       "\n",
       "    .dataframe tbody tr th {\n",
       "        vertical-align: top;\n",
       "    }\n",
       "\n",
       "    .dataframe thead th {\n",
       "        text-align: right;\n",
       "    }\n",
       "</style>\n",
       "<table border=\"1\" class=\"dataframe\">\n",
       "  <thead>\n",
       "    <tr style=\"text-align: right;\">\n",
       "      <th></th>\n",
       "      <th>0</th>\n",
       "      <th>1</th>\n",
       "      <th>2</th>\n",
       "      <th>3</th>\n",
       "      <th>4</th>\n",
       "      <th>5</th>\n",
       "      <th>6</th>\n",
       "      <th>7</th>\n",
       "      <th>8</th>\n",
       "      <th>9</th>\n",
       "      <th>10</th>\n",
       "    </tr>\n",
       "  </thead>\n",
       "  <tbody>\n",
       "    <tr>\n",
       "      <th>0</th>\n",
       "      <td>0.0</td>\n",
       "      <td>0.0</td>\n",
       "      <td>619.0</td>\n",
       "      <td>0.0</td>\n",
       "      <td>42.0</td>\n",
       "      <td>2.0</td>\n",
       "      <td>0.00</td>\n",
       "      <td>1.0</td>\n",
       "      <td>1.0</td>\n",
       "      <td>1.0</td>\n",
       "      <td>101348.88</td>\n",
       "    </tr>\n",
       "    <tr>\n",
       "      <th>1</th>\n",
       "      <td>0.0</td>\n",
       "      <td>1.0</td>\n",
       "      <td>608.0</td>\n",
       "      <td>0.0</td>\n",
       "      <td>41.0</td>\n",
       "      <td>1.0</td>\n",
       "      <td>83807.86</td>\n",
       "      <td>1.0</td>\n",
       "      <td>0.0</td>\n",
       "      <td>1.0</td>\n",
       "      <td>112542.58</td>\n",
       "    </tr>\n",
       "    <tr>\n",
       "      <th>2</th>\n",
       "      <td>0.0</td>\n",
       "      <td>0.0</td>\n",
       "      <td>502.0</td>\n",
       "      <td>0.0</td>\n",
       "      <td>42.0</td>\n",
       "      <td>8.0</td>\n",
       "      <td>159660.80</td>\n",
       "      <td>3.0</td>\n",
       "      <td>1.0</td>\n",
       "      <td>0.0</td>\n",
       "      <td>113931.57</td>\n",
       "    </tr>\n",
       "    <tr>\n",
       "      <th>3</th>\n",
       "      <td>0.0</td>\n",
       "      <td>0.0</td>\n",
       "      <td>699.0</td>\n",
       "      <td>0.0</td>\n",
       "      <td>39.0</td>\n",
       "      <td>1.0</td>\n",
       "      <td>0.00</td>\n",
       "      <td>2.0</td>\n",
       "      <td>0.0</td>\n",
       "      <td>0.0</td>\n",
       "      <td>93826.63</td>\n",
       "    </tr>\n",
       "    <tr>\n",
       "      <th>4</th>\n",
       "      <td>0.0</td>\n",
       "      <td>1.0</td>\n",
       "      <td>850.0</td>\n",
       "      <td>0.0</td>\n",
       "      <td>43.0</td>\n",
       "      <td>2.0</td>\n",
       "      <td>125510.82</td>\n",
       "      <td>1.0</td>\n",
       "      <td>1.0</td>\n",
       "      <td>1.0</td>\n",
       "      <td>79084.10</td>\n",
       "    </tr>\n",
       "  </tbody>\n",
       "</table>\n",
       "</div>"
      ],
      "text/plain": [
       "    0    1      2    3     4    5          6    7    8    9          10\n",
       "0  0.0  0.0  619.0  0.0  42.0  2.0       0.00  1.0  1.0  1.0  101348.88\n",
       "1  0.0  1.0  608.0  0.0  41.0  1.0   83807.86  1.0  0.0  1.0  112542.58\n",
       "2  0.0  0.0  502.0  0.0  42.0  8.0  159660.80  3.0  1.0  0.0  113931.57\n",
       "3  0.0  0.0  699.0  0.0  39.0  1.0       0.00  2.0  0.0  0.0   93826.63\n",
       "4  0.0  1.0  850.0  0.0  43.0  2.0  125510.82  1.0  1.0  1.0   79084.10"
      ]
     },
     "execution_count": 49,
     "metadata": {},
     "output_type": "execute_result"
    }
   ],
   "source": [
    "# Visual dataframe of the data\n",
    "pd.DataFrame(data=Xs[0:,0:]).head()"
   ]
  },
  {
   "cell_type": "code",
   "execution_count": 50,
   "metadata": {
    "collapsed": true
   },
   "outputs": [],
   "source": [
    "import keras\n",
    "from keras.models import Sequential\n",
    "from keras.layers import Dense"
   ]
  },
  {
   "cell_type": "code",
   "execution_count": 51,
   "metadata": {
    "collapsed": true
   },
   "outputs": [],
   "source": [
    "# Initializing the ANN\n",
    "classifier = Sequential()"
   ]
  },
  {
   "cell_type": "code",
   "execution_count": null,
   "metadata": {
    "collapsed": true
   },
   "outputs": [],
   "source": [
    "# We will be using the rectifier function for the hidden layers\n",
    "# We will be using the sigmoid function for the output layer"
   ]
  },
  {
   "cell_type": "code",
   "execution_count": null,
   "metadata": {
    "collapsed": true
   },
   "outputs": [],
   "source": [
    "# One of the tricks (or art) is to decide the number of input layers we would need\n",
    "# A rule of thumb is make the # of nodes the avg. of the input and output layers\n",
    "# In our case, we have 11 input layers and 1 output layer (1+11)/2 = 6 nodes\n"
   ]
  },
  {
   "cell_type": "code",
   "execution_count": 52,
   "metadata": {
    "collapsed": true
   },
   "outputs": [],
   "source": [
    "# Adding the input layer and the first hidden layer\n",
    "classifier.add(Dense(units=6, kernel_initializer='uniform', activation='relu', input_dim=11))"
   ]
  },
  {
   "cell_type": "code",
   "execution_count": 53,
   "metadata": {
    "collapsed": true
   },
   "outputs": [],
   "source": [
    "# Adding the second hidden layer\n",
    "# Do not need the input_dim bc we will have created the first layer, thus, it knows what to expect\n",
    "classifier.add(Dense(units=6, kernel_initializer='uniform', activation='relu'))"
   ]
  },
  {
   "cell_type": "code",
   "execution_count": 54,
   "metadata": {
    "collapsed": true
   },
   "outputs": [],
   "source": [
    "# Adding the output layer\n",
    "classifier.add(Dense(units=1, kernel_initializer='uniform', activation='sigmoid'))"
   ]
  },
  {
   "cell_type": "code",
   "execution_count": 55,
   "metadata": {
    "collapsed": true
   },
   "outputs": [],
   "source": [
    "# If you are output layer would output 3, here's an example of it \n",
    "# classifier.add(Dense(units=3, kernel_initializer='uniform', activation='sufmaxed'))"
   ]
  },
  {
   "cell_type": "code",
   "execution_count": 56,
   "metadata": {
    "collapsed": true
   },
   "outputs": [],
   "source": [
    "# Compliling the ANN \n",
    "# The lost function for a logistic regression is the \"logarithmic loss\"\n",
    "# For binary outcomes -> binary_crossentropy\n",
    "# For multi-outcomes -> categorical_crossentropy\n",
    "classifier.compile(optimizer='adam', loss='binary_crossentropy', metrics=['accuracy'])"
   ]
  },
  {
   "cell_type": "code",
   "execution_count": 57,
   "metadata": {},
   "outputs": [
    {
     "name": "stdout",
     "output_type": "stream",
     "text": [
      "Epoch 1/100\n",
      "8000/8000 [==============================] - 2s 193us/step - loss: 0.4929 - acc: 0.7959\n",
      "Epoch 2/100\n",
      "8000/8000 [==============================] - 1s 177us/step - loss: 0.4306 - acc: 0.7960\n",
      "Epoch 3/100\n",
      "8000/8000 [==============================] - 2s 274us/step - loss: 0.4239 - acc: 0.7961\n",
      "Epoch 4/100\n",
      "8000/8000 [==============================] - 2s 191us/step - loss: 0.4174 - acc: 0.8265\n",
      "Epoch 5/100\n",
      "8000/8000 [==============================] - 2s 191us/step - loss: 0.4109 - acc: 0.8337\n",
      "Epoch 6/100\n",
      "8000/8000 [==============================] - 2s 189us/step - loss: 0.4074 - acc: 0.8340\n",
      "Epoch 7/100\n",
      "8000/8000 [==============================] - 1s 166us/step - loss: 0.4052 - acc: 0.8350\n",
      "Epoch 8/100\n",
      "8000/8000 [==============================] - 1s 178us/step - loss: 0.4039 - acc: 0.8352\n",
      "Epoch 9/100\n",
      "8000/8000 [==============================] - 1s 175us/step - loss: 0.4019 - acc: 0.8337\n",
      "Epoch 10/100\n",
      "8000/8000 [==============================] - 1s 169us/step - loss: 0.4012 - acc: 0.8340\n",
      "Epoch 11/100\n",
      "8000/8000 [==============================] - 2s 207us/step - loss: 0.4001 - acc: 0.8331\n",
      "Epoch 12/100\n",
      "8000/8000 [==============================] - 2s 212us/step - loss: 0.3990 - acc: 0.8349\n",
      "Epoch 13/100\n",
      "8000/8000 [==============================] - 2s 207us/step - loss: 0.3983 - acc: 0.8357\n",
      "Epoch 14/100\n",
      "8000/8000 [==============================] - 1s 185us/step - loss: 0.3983 - acc: 0.8342\n",
      "Epoch 15/100\n",
      "8000/8000 [==============================] - 2s 249us/step - loss: 0.3979 - acc: 0.8352\n",
      "Epoch 16/100\n",
      "8000/8000 [==============================] - 2s 218us/step - loss: 0.3974 - acc: 0.8345\n",
      "Epoch 17/100\n",
      "8000/8000 [==============================] - 2s 288us/step - loss: 0.3974 - acc: 0.8341\n",
      "Epoch 18/100\n",
      "8000/8000 [==============================] - 2s 305us/step - loss: 0.3970 - acc: 0.8336\n",
      "Epoch 19/100\n",
      "8000/8000 [==============================] - 3s 322us/step - loss: 0.3963 - acc: 0.8335\n",
      "Epoch 20/100\n",
      "8000/8000 [==============================] - 2s 284us/step - loss: 0.3963 - acc: 0.8351\n",
      "Epoch 21/100\n",
      "8000/8000 [==============================] - 2s 202us/step - loss: 0.3960 - acc: 0.8351\n",
      "Epoch 22/100\n",
      "8000/8000 [==============================] - 2s 201us/step - loss: 0.3958 - acc: 0.8342\n",
      "Epoch 23/100\n",
      "8000/8000 [==============================] - 1s 169us/step - loss: 0.3961 - acc: 0.8345\n",
      "Epoch 24/100\n",
      "8000/8000 [==============================] - 1s 185us/step - loss: 0.3959 - acc: 0.8352\n",
      "Epoch 25/100\n",
      "8000/8000 [==============================] - 1s 172us/step - loss: 0.3956 - acc: 0.8351\n",
      "Epoch 26/100\n",
      "8000/8000 [==============================] - 1s 178us/step - loss: 0.3958 - acc: 0.8336\n",
      "Epoch 27/100\n",
      "8000/8000 [==============================] - 1s 167us/step - loss: 0.3947 - acc: 0.8351\n",
      "Epoch 28/100\n",
      "8000/8000 [==============================] - 1s 174us/step - loss: 0.3951 - acc: 0.8352\n",
      "Epoch 29/100\n",
      "8000/8000 [==============================] - 1s 164us/step - loss: 0.3950 - acc: 0.8344\n",
      "Epoch 30/100\n",
      "8000/8000 [==============================] - 1s 165us/step - loss: 0.3949 - acc: 0.8341\n",
      "Epoch 31/100\n",
      "8000/8000 [==============================] - 1s 164us/step - loss: 0.3949 - acc: 0.8352\n",
      "Epoch 32/100\n",
      "8000/8000 [==============================] - 1s 184us/step - loss: 0.3950 - acc: 0.8346\n",
      "Epoch 33/100\n",
      "8000/8000 [==============================] - 1s 167us/step - loss: 0.3948 - acc: 0.8344\n",
      "Epoch 34/100\n",
      "8000/8000 [==============================] - 1s 173us/step - loss: 0.3950 - acc: 0.8346\n",
      "Epoch 35/100\n",
      "8000/8000 [==============================] - 2s 295us/step - loss: 0.3948 - acc: 0.8337\n",
      "Epoch 36/100\n",
      "8000/8000 [==============================] - 1s 173us/step - loss: 0.3947 - acc: 0.8356\n",
      "Epoch 37/100\n",
      "8000/8000 [==============================] - 2s 196us/step - loss: 0.3944 - acc: 0.8340\n",
      "Epoch 38/100\n",
      "8000/8000 [==============================] - 2s 194us/step - loss: 0.3943 - acc: 0.8355\n",
      "Epoch 39/100\n",
      "8000/8000 [==============================] - 1s 176us/step - loss: 0.3942 - acc: 0.8365\n",
      "Epoch 40/100\n",
      "8000/8000 [==============================] - 1s 166us/step - loss: 0.3947 - acc: 0.8344\n",
      "Epoch 41/100\n",
      "8000/8000 [==============================] - 1s 186us/step - loss: 0.3939 - acc: 0.8364\n",
      "Epoch 42/100\n",
      "8000/8000 [==============================] - 1s 171us/step - loss: 0.3943 - acc: 0.8359\n",
      "Epoch 43/100\n",
      "8000/8000 [==============================] - 1s 163us/step - loss: 0.3942 - acc: 0.8354\n",
      "Epoch 44/100\n",
      "8000/8000 [==============================] - 2s 205us/step - loss: 0.3941 - acc: 0.8369\n",
      "Epoch 45/100\n",
      "8000/8000 [==============================] - 1s 165us/step - loss: 0.3940 - acc: 0.8352\n",
      "Epoch 46/100\n",
      "8000/8000 [==============================] - 1s 162us/step - loss: 0.3941 - acc: 0.8375\n",
      "Epoch 47/100\n",
      "8000/8000 [==============================] - 1s 162us/step - loss: 0.3941 - acc: 0.8354\n",
      "Epoch 48/100\n",
      "8000/8000 [==============================] - 1s 180us/step - loss: 0.3938 - acc: 0.8366\n",
      "Epoch 49/100\n",
      "8000/8000 [==============================] - 1s 169us/step - loss: 0.3938 - acc: 0.8355\n",
      "Epoch 50/100\n",
      "8000/8000 [==============================] - 1s 168us/step - loss: 0.3940 - acc: 0.8374\n",
      "Epoch 51/100\n",
      "8000/8000 [==============================] - 2s 195us/step - loss: 0.3937 - acc: 0.8366\n",
      "Epoch 52/100\n",
      "8000/8000 [==============================] - 1s 173us/step - loss: 0.3943 - acc: 0.8357\n",
      "Epoch 53/100\n",
      "8000/8000 [==============================] - 1s 171us/step - loss: 0.3936 - acc: 0.8349\n",
      "Epoch 54/100\n",
      "8000/8000 [==============================] - 1s 163us/step - loss: 0.3940 - acc: 0.8356\n",
      "Epoch 55/100\n",
      "8000/8000 [==============================] - 1s 181us/step - loss: 0.3934 - acc: 0.8366\n",
      "Epoch 56/100\n",
      "8000/8000 [==============================] - 1s 174us/step - loss: 0.3936 - acc: 0.8364\n",
      "Epoch 57/100\n",
      "8000/8000 [==============================] - 1s 172us/step - loss: 0.3932 - acc: 0.8370\n",
      "Epoch 58/100\n",
      "8000/8000 [==============================] - 1s 187us/step - loss: 0.3938 - acc: 0.8354\n",
      "Epoch 59/100\n",
      "8000/8000 [==============================] - 1s 179us/step - loss: 0.3931 - acc: 0.8342\n",
      "Epoch 60/100\n",
      "8000/8000 [==============================] - 2s 271us/step - loss: 0.3932 - acc: 0.8375\n",
      "Epoch 61/100\n",
      "8000/8000 [==============================] - 2s 232us/step - loss: 0.3938 - acc: 0.8361\n",
      "Epoch 62/100\n",
      "8000/8000 [==============================] - 2s 224us/step - loss: 0.3933 - acc: 0.8366\n",
      "Epoch 63/100\n",
      "8000/8000 [==============================] - 2s 281us/step - loss: 0.3934 - acc: 0.8377\n",
      "Epoch 64/100\n",
      "8000/8000 [==============================] - 2s 234us/step - loss: 0.3932 - acc: 0.8347\n",
      "Epoch 65/100\n",
      "8000/8000 [==============================] - 2s 240us/step - loss: 0.3939 - acc: 0.8356\n",
      "Epoch 66/100\n",
      "8000/8000 [==============================] - 2s 251us/step - loss: 0.3934 - acc: 0.8364\n",
      "Epoch 67/100\n",
      "8000/8000 [==============================] - 2s 209us/step - loss: 0.3932 - acc: 0.8365\n",
      "Epoch 68/100\n",
      "8000/8000 [==============================] - 2s 263us/step - loss: 0.3932 - acc: 0.8345\n",
      "Epoch 69/100\n",
      "8000/8000 [==============================] - 2s 293us/step - loss: 0.3932 - acc: 0.8365\n",
      "Epoch 70/100\n",
      "8000/8000 [==============================] - 1s 180us/step - loss: 0.3935 - acc: 0.8367\n",
      "Epoch 71/100\n",
      "8000/8000 [==============================] - 2s 272us/step - loss: 0.3934 - acc: 0.8362\n",
      "Epoch 72/100\n",
      "8000/8000 [==============================] - 2s 271us/step - loss: 0.3932 - acc: 0.8364\n",
      "Epoch 73/100\n",
      "8000/8000 [==============================] - 2s 247us/step - loss: 0.3932 - acc: 0.8367\n",
      "Epoch 74/100\n",
      "8000/8000 [==============================] - 2s 207us/step - loss: 0.3931 - acc: 0.8362\n",
      "Epoch 75/100\n",
      "8000/8000 [==============================] - 2s 188us/step - loss: 0.3929 - acc: 0.8369\n",
      "Epoch 76/100\n",
      "8000/8000 [==============================] - 2s 203us/step - loss: 0.3935 - acc: 0.8374\n",
      "Epoch 77/100\n",
      "8000/8000 [==============================] - 2s 277us/step - loss: 0.3934 - acc: 0.8377\n",
      "Epoch 78/100\n",
      "8000/8000 [==============================] - 2s 194us/step - loss: 0.3936 - acc: 0.8361\n",
      "Epoch 79/100\n",
      "8000/8000 [==============================] - 1s 164us/step - loss: 0.3929 - acc: 0.8365\n",
      "Epoch 80/100\n",
      "8000/8000 [==============================] - 2s 196us/step - loss: 0.3930 - acc: 0.8372\n",
      "Epoch 81/100\n",
      "8000/8000 [==============================] - 2s 199us/step - loss: 0.3928 - acc: 0.8381\n",
      "Epoch 82/100\n",
      "8000/8000 [==============================] - 1s 167us/step - loss: 0.3927 - acc: 0.8376\n",
      "Epoch 83/100\n",
      "8000/8000 [==============================] - 1s 166us/step - loss: 0.3921 - acc: 0.8369\n",
      "Epoch 84/100\n",
      "8000/8000 [==============================] - 1s 154us/step - loss: 0.3914 - acc: 0.8369\n",
      "Epoch 85/100\n",
      "8000/8000 [==============================] - 1s 165us/step - loss: 0.3915 - acc: 0.8385\n",
      "Epoch 86/100\n",
      "8000/8000 [==============================] - 1s 152us/step - loss: 0.3907 - acc: 0.8389\n",
      "Epoch 87/100\n",
      "8000/8000 [==============================] - 1s 152us/step - loss: 0.3893 - acc: 0.8382\n",
      "Epoch 88/100\n",
      "8000/8000 [==============================] - 1s 164us/step - loss: 0.3881 - acc: 0.8397\n",
      "Epoch 89/100\n",
      "8000/8000 [==============================] - 1s 157us/step - loss: 0.3872 - acc: 0.8395\n",
      "Epoch 90/100\n",
      "8000/8000 [==============================] - 1s 157us/step - loss: 0.3852 - acc: 0.8417\n",
      "Epoch 91/100\n",
      "8000/8000 [==============================] - 1s 157us/step - loss: 0.3828 - acc: 0.8401\n",
      "Epoch 92/100\n",
      "8000/8000 [==============================] - 1s 161us/step - loss: 0.3811 - acc: 0.8401\n",
      "Epoch 93/100\n",
      "8000/8000 [==============================] - 1s 172us/step - loss: 0.3785 - acc: 0.8427\n",
      "Epoch 94/100\n",
      "8000/8000 [==============================] - 1s 152us/step - loss: 0.3766 - acc: 0.8399\n",
      "Epoch 95/100\n",
      "8000/8000 [==============================] - 1s 162us/step - loss: 0.3741 - acc: 0.8407\n",
      "Epoch 96/100\n",
      "8000/8000 [==============================] - 1s 164us/step - loss: 0.3719 - acc: 0.8394\n",
      "Epoch 97/100\n",
      "8000/8000 [==============================] - 1s 166us/step - loss: 0.3697 - acc: 0.8420\n",
      "Epoch 98/100\n",
      "8000/8000 [==============================] - 1s 157us/step - loss: 0.3662 - acc: 0.8424\n",
      "Epoch 99/100\n",
      "8000/8000 [==============================] - 1s 163us/step - loss: 0.3639 - acc: 0.8481\n",
      "Epoch 100/100\n",
      "8000/8000 [==============================] - 1s 159us/step - loss: 0.3613 - acc: 0.8494\n"
     ]
    },
    {
     "data": {
      "text/plain": [
       "<keras.callbacks.History at 0x1a1b788e10>"
      ]
     },
     "execution_count": 57,
     "metadata": {},
     "output_type": "execute_result"
    }
   ],
   "source": [
    "# Fitting our model\n",
    "classifier.fit(X_train, y_train, batch_size=10, epochs=100)"
   ]
  },
  {
   "cell_type": "code",
   "execution_count": 58,
   "metadata": {
    "collapsed": true
   },
   "outputs": [],
   "source": [
    "# Predicting the training set\n",
    "y_pred = classifier.predict(X_test)"
   ]
  },
  {
   "cell_type": "code",
   "execution_count": 61,
   "metadata": {
    "collapsed": true
   },
   "outputs": [],
   "source": [
    "# Have to create binary outcomes from the prob. of the logisic regression\n",
    "y_pred = (y_pred > 0.5)"
   ]
  },
  {
   "cell_type": "code",
   "execution_count": 62,
   "metadata": {},
   "outputs": [
    {
     "data": {
      "text/plain": [
       "array([False])"
      ]
     },
     "execution_count": 62,
     "metadata": {},
     "output_type": "execute_result"
    }
   ],
   "source": [
    "y_pred[0] # This customer has a 20% chance that he/she will leave the bank"
   ]
  },
  {
   "cell_type": "code",
   "execution_count": null,
   "metadata": {
    "collapsed": true
   },
   "outputs": [],
   "source": [
    "# Use the model on the customer of the bank (rank the prob. of the highest to lowest)\n",
    "# Segment the people who are leaving, use data mining techniques to find why customer will leave the bank!\n"
   ]
  },
  {
   "cell_type": "code",
   "execution_count": 63,
   "metadata": {
    "collapsed": true
   },
   "outputs": [],
   "source": [
    "from sklearn.metrics import confusion_matrix\n",
    "cm = confusion_matrix(y_test, y_pred)"
   ]
  },
  {
   "cell_type": "code",
   "execution_count": 65,
   "metadata": {},
   "outputs": [
    {
     "name": "stdout",
     "output_type": "stream",
     "text": [
      "true pos: 173\n",
      "false pos: 57\n",
      "true neg: 1538\n",
      "false neg: 232\n",
      "\n",
      "\n",
      "Out of 2000 reviews, the model got 1711 correct,\n",
      "Accuacy is: 0.86%\n",
      "Precision is: 0.75%\n",
      "Recall is: 0.43%\n",
      "F1 Score is: 0.54%\n"
     ]
    }
   ],
   "source": [
    "cm = confusion_matrix(y_test, y_pred)\n",
    "tn, fp, fn, tp = cm.ravel()\n",
    "\n",
    "total = tn+fp+fn+tp\n",
    "accuracy = (tn+tp)/total\n",
    "precision = tp/(tp+fp)\n",
    "recall = tp/(tp+fn)\n",
    "f1_score = 2*precision*recall/(precision+recall)\n",
    "\n",
    "\n",
    "print(\n",
    "    \"true pos: {0}\\n\"\n",
    "    \"false pos: {1}\\n\"\n",
    "    \"true neg: {2}\\n\"\n",
    "    \"false neg: {3}\\n\".format(tp, fp, tn, fn))\n",
    "\n",
    "print(\"\"\"\n",
    "Out of {0} reviews, the model got {1} correct,\n",
    "Accuacy is: {2:.2f}%\n",
    "Precision is: {3:.2f}%\n",
    "Recall is: {4:.2f}%\n",
    "F1 Score is: {5:.2f}%\"\"\".format(total, tn+tp, accuracy, precision, recall, f1_score))"
   ]
  }
 ],
 "metadata": {
  "kernelspec": {
   "display_name": "Python 3",
   "language": "python",
   "name": "python3"
  },
  "language_info": {
   "codemirror_mode": {
    "name": "ipython",
    "version": 3
   },
   "file_extension": ".py",
   "mimetype": "text/x-python",
   "name": "python",
   "nbconvert_exporter": "python",
   "pygments_lexer": "ipython3",
   "version": "3.6.5"
  }
 },
 "nbformat": 4,
 "nbformat_minor": 2
}

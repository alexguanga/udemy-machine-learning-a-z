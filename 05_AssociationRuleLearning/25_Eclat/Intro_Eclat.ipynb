{
 "cells": [
  {
   "cell_type": "markdown",
   "metadata": {},
   "source": [
    "# Notes"
   ]
  },
  {
   "cell_type": "markdown",
   "metadata": {},
   "source": [
    "### Lecture 163: Eclat Intuition\n",
    "- Instead of the lift like the in apriori model, we will be using SETS\n",
    "- We have the **SUPPORT** component like in the apriori model.\n",
    "- The **SUPPORT** is the only component we will be using!\n",
    "\n",
    "- **Step 1: Support**\n",
    "    - Using the examples from above, these are the equations. It's simply, the amount of user who are watched the movie your are testing, or bought the food you are testing for against the total amount\n",
    "<img src=\"../../images/AZ_Apriori3.png\" alt=\"Drawing\" style=\"width: 500px;\"/>\n",
    "- M is define for a set of at least two movies! (and not for a single movie bc it does not make much sense)\n",
    "- We are looking for the percentage of the set (M) in the entire sample!\n",
    "<img src=\"../../images/AZ_Eclat.png\" alt=\"Drawing\" style=\"width: 700px;\"/>\n"
   ]
  }
 ],
 "metadata": {
  "kernelspec": {
   "display_name": "Python 3",
   "language": "python",
   "name": "python3"
  },
  "language_info": {
   "codemirror_mode": {
    "name": "ipython",
    "version": 3
   },
   "file_extension": ".py",
   "mimetype": "text/x-python",
   "name": "python",
   "nbconvert_exporter": "python",
   "pygments_lexer": "ipython3",
   "version": "3.6.5"
  }
 },
 "nbformat": 4,
 "nbformat_minor": 2
}

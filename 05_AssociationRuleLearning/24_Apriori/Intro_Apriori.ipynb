{
 "cells": [
  {
   "cell_type": "markdown",
   "metadata": {},
   "source": [
    "# Notes"
   ]
  },
  {
   "cell_type": "markdown",
   "metadata": {},
   "source": [
    "### Lecture 155:  Apriori Intuition\n",
    "- There's a story that Pampers and Beer, through the data, are being bought together between 6PM and 9PM.\n",
    "- One plausible reason for this is that the wife asks the husband to go buy pampers in the afternoon and he picks up beers as he's already in the convience store.\n",
    "- But this is a difficult way to test or measure its accuracy.\n",
    "- People might believe that putting them together is a great idea.\n",
    "    - However, if we put them in different positions (as far from one another), then they will still buy the products but now they might buy something in their journey to get each of these products.\n",
    "- ** What is it all about?**\n",
    "    - Looking for things that come in pairs or triplets (eg. people who bought something also bought ...)\n",
    "    - Below is a movie recommendation. We see some correlation btw some of the movies. The goal is to find the connecitions that are the strongest. \n",
    "<img src=\"../../images/AZ_Apriori.png\" alt=\"Drawing\" style=\"width: 700px;\"/>\n",
    "<img src=\"../../images/AZ_Apriori2.png\" alt=\"Drawing\" style=\"width: 700px;\"/>\n",
    "\n",
    "    - But how does the Apriori work?\n",
    "        - There are three parts: Support, Confidence, and the Lift\n",
    "        \n",
    "- **Step 1: Support**\n",
    "    - Using the examples from above, these are the equations. It's simply, the amount of user who are watched the movie your are testing, or bought the food you are testing for against the total amount\n",
    "<img src=\"../../images/AZ_Apriori3.png\" alt=\"Drawing\" style=\"width: 500px;\"/>\n",
    "\n",
    "\n",
    "- **Step 2: Confidence**\n",
    "    - We use two movies, in the case above. For example, if we believe there's two movies that people watch together, or believe that people who watched Interstellar are most likely to watch Ex Machina, we use Interstellar as the denominator, and the numerator will be Ex Machina **and** Interstellar.\n",
    "<img src=\"../../images/AZ_Apriori4.png\" alt=\"Drawing\" style=\"width: 500px;\"/>\n",
    "\n",
    "\n",
    "- **Step 3: Lift**\n",
    "    - The confidence divide the support\n",
    "    - Eg: For the support, say 10 people from 100 liked Ex Machine (10%)\n",
    "    - Eg: For the confidence, say 7 people watched Ex Machine and Interstellar from 40 people who watched Interstellar. (7/40 = 17.5%)\n",
    "    - Hence, we are trying to figure out ways to find people who are more likely to watch Ex Machina than the average joe. (17.5%/10% = 1.75)\n",
    "<img src=\"../../images/AZ_Apriori5.png\" alt=\"Drawing\" style=\"width: 500px;\"/>\n",
    "\n",
    "\n",
    "- **STEPS**\n",
    "    - Step 1: Set a minimum support and confidence (bc there are a lot of possibilities, we need to eliminate those that will cost us computational power without any real benefits)\n",
    "    - Step 2: Take all the subsets in transactions having higher support than minimum support\n",
    "    - Step 3: Take all the rules of these subsets having higher confidence than minimum confidence\n",
    "    - Step 4: Sort the rules by decreasing lifts"
   ]
  }
 ],
 "metadata": {
  "kernelspec": {
   "display_name": "Python 3",
   "language": "python",
   "name": "python3"
  },
  "language_info": {
   "codemirror_mode": {
    "name": "ipython",
    "version": 3
   },
   "file_extension": ".py",
   "mimetype": "text/x-python",
   "name": "python",
   "nbconvert_exporter": "python",
   "pygments_lexer": "ipython3",
   "version": "3.6.5"
  }
 },
 "nbformat": 4,
 "nbformat_minor": 2
}

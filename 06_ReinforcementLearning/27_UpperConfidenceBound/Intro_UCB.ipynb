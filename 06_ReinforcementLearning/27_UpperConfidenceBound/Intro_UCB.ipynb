{
 "cells": [
  {
   "cell_type": "markdown",
   "metadata": {},
   "source": [
    "# Section 27: Upper Confidence Bound (UCB)"
   ]
  },
  {
   "cell_type": "markdown",
   "metadata": {},
   "source": [
    "### Lecture 167: The Multi-Armed Bandit Problem\n",
    "- One-Armed Bandit is a slot machine\n",
    "- It's called a bandit bc this it's one of the quickest way to lose your money\n",
    "- Moreover, the casionos would out a bug in the slot machine (lost a lot of money)\n",
    "- Multi-Armed Bandit was coined bc you to choose btw many of the slot machines. How can you decide which slot machine to play to maximize your chances of winning?\n",
    "- Each of these slot machines have their own distribution (but you do not know these distribution)\n",
    "- Your job is to figure the best machine based on their distributution\n",
    "- But you do know the best distribution (you have to guess using mathematic concepts)\n",
    "- However, you cannot spend a lot of time trying to figure it out. The more time you spend figuring it out, the more money you will lose\n",
    "- **Mathematics concepts:** Regret is define by the lose you incur by not using the most optimal method, in the case below, it will be not using the far-right distribution\n",
    "- <img src=\"../../images/AZ_Rienforcing.png\" alt=\"Drawing\" style=\"width: 700px;\"/>\n",
    "- In this type of learning, there's one optimal solution\n",
    "- We will be exploring in advertisements!\n",
    "    - Sometimes, campaigns will conduct A/B Testing. However, with A/B testing requires 2 process: exploration and then explotation\n",
    "    - We want to be efficient and do both of the process at the same time!"
   ]
  },
  {
   "cell_type": "markdown",
   "metadata": {},
   "source": [
    "### Lecture 168: Upper Confidence Bound (UCB) Intuition\n",
    "- <img src=\"../../images/AZ_Rienforcing_2.png\" alt=\"Drawing\" style=\"width: 500px;\"/>\n",
    "- <img src=\"../../images/AZ_Rienforcing_3.png\" alt=\"Drawing\" style=\"width: 500px;\"/>\n",
    "- If we had to plot the distribution onto a graph, the image below would be the result\n",
    "- <img src=\"../../images/AZ_Rienforcing_4.png\" alt=\"Drawing\" style=\"width: 700px;\"/>\n",
    "- However, we have no idea which one is which. We will use an average expecated values\n",
    "- <img src=\"../../images/AZ_Rienforcing_5.png\" alt=\"Drawing\" style=\"width: 700px;\"/>\n",
    "- We will be creating a confidence bounds. We will almost certain that the real expected value falls within the confidence bounds\n",
    "- <img src=\"../../images/AZ_Rienforcing_6.png\" alt=\"Drawing\" style=\"width: 700px;\"/>\n",
    "- We will prob. have to run these ads at least once to identify people's initial decisions!\n",
    "- Two things happen: First, we will eventually converge to the actual expected value. Meaning, the average decreases if the ad was not clicked (we have an extra 0) or increases above the expected value (we have an extra 1). Secondly, the confidence interval decreases as well, since we are more confident that the expected value is the real expected value.\n",
    "- <img src=\"../../images/AZ_Rienforcing_7.png\" alt=\"Drawing\" style=\"width: 700px;\"/>\n",
    "\n"
   ]
  }
 ],
 "metadata": {
  "kernelspec": {
   "display_name": "Python 3",
   "language": "python",
   "name": "python3"
  },
  "language_info": {
   "codemirror_mode": {
    "name": "ipython",
    "version": 3
   },
   "file_extension": ".py",
   "mimetype": "text/x-python",
   "name": "python",
   "nbconvert_exporter": "python",
   "pygments_lexer": "ipython3",
   "version": "3.6.5"
  }
 },
 "nbformat": 4,
 "nbformat_minor": 2
}

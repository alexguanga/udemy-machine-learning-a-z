{
 "cells": [
  {
   "cell_type": "code",
   "execution_count": 1,
   "metadata": {},
   "outputs": [],
   "source": [
    "import numpy as np\n",
    "import pandas as pd\n",
    "import matplotlib.pyplot as plt\n",
    "%matplotlib inline\n"
   ]
  },
  {
   "cell_type": "code",
   "execution_count": 2,
   "metadata": {},
   "outputs": [],
   "source": [
    "df = pd.read_csv(\"../archive/Social_Network_Ads.csv\")"
   ]
  },
  {
   "cell_type": "code",
   "execution_count": 3,
   "metadata": {},
   "outputs": [
    {
     "data": {
      "text/html": [
       "<div>\n",
       "<style scoped>\n",
       "    .dataframe tbody tr th:only-of-type {\n",
       "        vertical-align: middle;\n",
       "    }\n",
       "\n",
       "    .dataframe tbody tr th {\n",
       "        vertical-align: top;\n",
       "    }\n",
       "\n",
       "    .dataframe thead th {\n",
       "        text-align: right;\n",
       "    }\n",
       "</style>\n",
       "<table border=\"1\" class=\"dataframe\">\n",
       "  <thead>\n",
       "    <tr style=\"text-align: right;\">\n",
       "      <th></th>\n",
       "      <th>User ID</th>\n",
       "      <th>Gender</th>\n",
       "      <th>Age</th>\n",
       "      <th>EstimatedSalary</th>\n",
       "      <th>Purchased</th>\n",
       "    </tr>\n",
       "  </thead>\n",
       "  <tbody>\n",
       "    <tr>\n",
       "      <th>0</th>\n",
       "      <td>15624510</td>\n",
       "      <td>Male</td>\n",
       "      <td>19.0</td>\n",
       "      <td>19000.0</td>\n",
       "      <td>0</td>\n",
       "    </tr>\n",
       "    <tr>\n",
       "      <th>1</th>\n",
       "      <td>15810944</td>\n",
       "      <td>Male</td>\n",
       "      <td>35.0</td>\n",
       "      <td>20000.0</td>\n",
       "      <td>0</td>\n",
       "    </tr>\n",
       "    <tr>\n",
       "      <th>2</th>\n",
       "      <td>15668575</td>\n",
       "      <td>Female</td>\n",
       "      <td>26.0</td>\n",
       "      <td>43000.0</td>\n",
       "      <td>0</td>\n",
       "    </tr>\n",
       "    <tr>\n",
       "      <th>3</th>\n",
       "      <td>15603246</td>\n",
       "      <td>Female</td>\n",
       "      <td>27.0</td>\n",
       "      <td>57000.0</td>\n",
       "      <td>0</td>\n",
       "    </tr>\n",
       "    <tr>\n",
       "      <th>4</th>\n",
       "      <td>15804002</td>\n",
       "      <td>Male</td>\n",
       "      <td>19.0</td>\n",
       "      <td>76000.0</td>\n",
       "      <td>0</td>\n",
       "    </tr>\n",
       "  </tbody>\n",
       "</table>\n",
       "</div>"
      ],
      "text/plain": [
       "    User ID  Gender   Age  EstimatedSalary  Purchased\n",
       "0  15624510    Male  19.0          19000.0          0\n",
       "1  15810944    Male  35.0          20000.0          0\n",
       "2  15668575  Female  26.0          43000.0          0\n",
       "3  15603246  Female  27.0          57000.0          0\n",
       "4  15804002    Male  19.0          76000.0          0"
      ]
     },
     "execution_count": 3,
     "metadata": {},
     "output_type": "execute_result"
    }
   ],
   "source": [
    "df.head()"
   ]
  },
  {
   "cell_type": "code",
   "execution_count": 4,
   "metadata": {},
   "outputs": [
    {
     "data": {
      "text/plain": [
       "User ID              int64\n",
       "Gender              object\n",
       "Age                float64\n",
       "EstimatedSalary    float64\n",
       "Purchased            int64\n",
       "dtype: object"
      ]
     },
     "execution_count": 4,
     "metadata": {},
     "output_type": "execute_result"
    }
   ],
   "source": [
    "df.dtypes"
   ]
  },
  {
   "cell_type": "markdown",
   "metadata": {},
   "source": [
    "### Lecture 13: Missing Data"
   ]
  },
  {
   "cell_type": "code",
   "execution_count": 5,
   "metadata": {},
   "outputs": [],
   "source": [
    "# Remember to fill the nan values with 0\n",
    "# Filling missing values with the mean\n",
    "\n",
    "# Only performing the missing values for integers/floats\n",
    "for col in df.columns:\n",
    "    if df.loc[:, col].dtype != \"object\":\n",
    "        df.loc[:,col].fillna(df.loc[:,col].mean(), inplace=True)\n"
   ]
  },
  {
   "cell_type": "code",
   "execution_count": 6,
   "metadata": {},
   "outputs": [],
   "source": [
    "# Fixing the decimals in the df\n",
    "df = df.round(2)"
   ]
  },
  {
   "cell_type": "code",
   "execution_count": 7,
   "metadata": {},
   "outputs": [
    {
     "data": {
      "text/html": [
       "<div>\n",
       "<style scoped>\n",
       "    .dataframe tbody tr th:only-of-type {\n",
       "        vertical-align: middle;\n",
       "    }\n",
       "\n",
       "    .dataframe tbody tr th {\n",
       "        vertical-align: top;\n",
       "    }\n",
       "\n",
       "    .dataframe thead th {\n",
       "        text-align: right;\n",
       "    }\n",
       "</style>\n",
       "<table border=\"1\" class=\"dataframe\">\n",
       "  <thead>\n",
       "    <tr style=\"text-align: right;\">\n",
       "      <th></th>\n",
       "      <th>User ID</th>\n",
       "      <th>Gender</th>\n",
       "      <th>Age</th>\n",
       "      <th>EstimatedSalary</th>\n",
       "    </tr>\n",
       "  </thead>\n",
       "  <tbody>\n",
       "    <tr>\n",
       "      <th>0</th>\n",
       "      <td>15624510</td>\n",
       "      <td>Male</td>\n",
       "      <td>19.0</td>\n",
       "      <td>19000.0</td>\n",
       "    </tr>\n",
       "    <tr>\n",
       "      <th>1</th>\n",
       "      <td>15810944</td>\n",
       "      <td>Male</td>\n",
       "      <td>35.0</td>\n",
       "      <td>20000.0</td>\n",
       "    </tr>\n",
       "    <tr>\n",
       "      <th>2</th>\n",
       "      <td>15668575</td>\n",
       "      <td>Female</td>\n",
       "      <td>26.0</td>\n",
       "      <td>43000.0</td>\n",
       "    </tr>\n",
       "    <tr>\n",
       "      <th>3</th>\n",
       "      <td>15603246</td>\n",
       "      <td>Female</td>\n",
       "      <td>27.0</td>\n",
       "      <td>57000.0</td>\n",
       "    </tr>\n",
       "    <tr>\n",
       "      <th>4</th>\n",
       "      <td>15804002</td>\n",
       "      <td>Male</td>\n",
       "      <td>19.0</td>\n",
       "      <td>76000.0</td>\n",
       "    </tr>\n",
       "  </tbody>\n",
       "</table>\n",
       "</div>"
      ],
      "text/plain": [
       "    User ID  Gender   Age  EstimatedSalary\n",
       "0  15624510    Male  19.0          19000.0\n",
       "1  15810944    Male  35.0          20000.0\n",
       "2  15668575  Female  26.0          43000.0\n",
       "3  15603246  Female  27.0          57000.0\n",
       "4  15804002    Male  19.0          76000.0"
      ]
     },
     "execution_count": 7,
     "metadata": {},
     "output_type": "execute_result"
    }
   ],
   "source": [
    "Xs = df.drop('Purchased', 1)\n",
    "Xs.head()"
   ]
  },
  {
   "cell_type": "code",
   "execution_count": 8,
   "metadata": {},
   "outputs": [
    {
     "data": {
      "text/plain": [
       "0    0\n",
       "1    0\n",
       "2    0\n",
       "3    0\n",
       "4    0\n",
       "Name: Purchased, dtype: int64"
      ]
     },
     "execution_count": 8,
     "metadata": {},
     "output_type": "execute_result"
    }
   ],
   "source": [
    "y = df['Purchased']\n",
    "y.head()"
   ]
  },
  {
   "cell_type": "markdown",
   "metadata": {},
   "source": [
    "### Lecture 14: Categorical Data\n",
    "- Setting up dummy variable"
   ]
  },
  {
   "cell_type": "code",
   "execution_count": 18,
   "metadata": {},
   "outputs": [],
   "source": [
    "# The negative from using is the number labels will make the model\n",
    "# think that's some kind of benefit of countries with the larger number\n",
    "from sklearn.preprocessing import LabelEncoder, OneHotEncoder\n",
    "\n",
    "labelencoder_X = LabelEncoder()\n",
    "Xs.iloc[:, 1] = labelencoder_X.fit_transform(Xs.iloc[:,1])\n",
    "\n",
    "onehotencoder = OneHotEncoder(categorical_features=[1])\n",
    "Xs = onehotencoder.fit_transform(Xs).toarray()\n",
    "\n",
    "labelencoder_y = LabelEncoder()\n",
    "y = labelencoder_y.fit_transform(y)"
   ]
  },
  {
   "cell_type": "markdown",
   "metadata": {},
   "source": [
    "### Lecture 15: Splitting the Dataset into the Training Set and Test Set"
   ]
  },
  {
   "cell_type": "code",
   "execution_count": 19,
   "metadata": {},
   "outputs": [
    {
     "data": {
      "text/plain": [
       "(array([[0.00e+00, 1.00e+00, 1.44e+02, 5.80e+01, 1.44e+05],\n",
       "        [1.00e+00, 0.00e+00, 6.70e+01, 5.90e+01, 8.30e+04],\n",
       "        [1.00e+00, 0.00e+00, 1.24e+02, 2.40e+01, 5.50e+04],\n",
       "        ...,\n",
       "        [0.00e+00, 1.00e+00, 3.90e+01, 3.60e+01, 5.20e+04],\n",
       "        [1.00e+00, 0.00e+00, 3.39e+02, 2.70e+01, 5.40e+04],\n",
       "        [1.00e+00, 0.00e+00, 3.69e+02, 2.60e+01, 1.18e+05]]),\n",
       " array([[0.00e+00, 1.00e+00, 2.57e+02, 3.00e+01, 8.70e+04],\n",
       "        [1.00e+00, 0.00e+00, 1.28e+02, 3.80e+01, 5.00e+04],\n",
       "        [0.00e+00, 1.00e+00, 3.41e+02, 3.50e+01, 7.50e+04],\n",
       "        [1.00e+00, 0.00e+00, 2.79e+02, 3.00e+01, 7.90e+04],\n",
       "        [1.00e+00, 0.00e+00, 1.13e+02, 3.50e+01, 5.00e+04],\n",
       "        [0.00e+00, 1.00e+00, 3.96e+02, 2.70e+01, 2.00e+04],\n",
       "        [1.00e+00, 0.00e+00, 7.40e+01, 3.10e+01, 1.50e+04],\n",
       "        [0.00e+00, 1.00e+00, 1.80e+02, 3.60e+01, 1.44e+05],\n",
       "        [1.00e+00, 0.00e+00, 1.47e+02, 1.80e+01, 6.80e+04],\n",
       "        [0.00e+00, 1.00e+00, 9.30e+01, 4.70e+01, 4.30e+04],\n",
       "        [0.00e+00, 1.00e+00, 1.92e+02, 3.00e+01, 4.90e+04],\n",
       "        [1.00e+00, 0.00e+00, 3.75e+02, 2.80e+01, 5.50e+04],\n",
       "        [0.00e+00, 1.00e+00, 3.31e+02, 3.70e+01, 5.50e+04],\n",
       "        [0.00e+00, 1.00e+00, 1.80e+01, 3.90e+01, 7.70e+04],\n",
       "        [0.00e+00, 1.00e+00, 2.89e+02, 2.00e+01, 8.60e+04],\n",
       "        [1.00e+00, 0.00e+00, 3.55e+02, 3.20e+01, 1.17e+05],\n",
       "        [0.00e+00, 1.00e+00, 3.12e+02, 3.70e+01, 7.70e+04],\n",
       "        [0.00e+00, 1.00e+00, 3.87e+02, 1.90e+01, 8.50e+04],\n",
       "        [1.00e+00, 0.00e+00, 1.29e+02, 5.50e+01, 1.30e+05],\n",
       "        [0.00e+00, 1.00e+00, 2.25e+02, 3.50e+01, 2.20e+04],\n",
       "        [1.00e+00, 0.00e+00, 7.20e+01, 3.50e+01, 4.70e+04],\n",
       "        [1.00e+00, 0.00e+00, 2.90e+02, 4.70e+01, 1.44e+05],\n",
       "        [1.00e+00, 0.00e+00, 1.74e+02, 4.10e+01, 5.10e+04],\n",
       "        [0.00e+00, 1.00e+00, 2.65e+02, 4.70e+01, 1.05e+05],\n",
       "        [1.00e+00, 0.00e+00, 8.20e+01, 2.30e+01, 2.80e+04],\n",
       "        [1.00e+00, 0.00e+00, 3.03e+02, 4.90e+01, 1.41e+05],\n",
       "        [1.00e+00, 0.00e+00, 1.49e+02, 2.80e+01, 8.70e+04],\n",
       "        [0.00e+00, 1.00e+00, 2.09e+02, 2.90e+01, 8.00e+04],\n",
       "        [1.00e+00, 0.00e+00, 1.05e+02, 3.70e+01, 6.20e+04],\n",
       "        [1.00e+00, 0.00e+00, 2.90e+01, 3.20e+01, 8.60e+04],\n",
       "        [0.00e+00, 1.00e+00, 3.20e+01, 2.10e+01, 8.80e+04],\n",
       "        [0.00e+00, 1.00e+00, 1.12e+02, 3.70e+01, 7.90e+04],\n",
       "        [0.00e+00, 1.00e+00, 3.97e+02, 5.70e+01, 6.00e+04],\n",
       "        [0.00e+00, 1.00e+00, 9.20e+01, 3.70e+01, 5.30e+04],\n",
       "        [0.00e+00, 1.00e+00, 2.42e+02, 2.40e+01, 5.80e+04],\n",
       "        [0.00e+00, 1.00e+00, 2.92e+02, 1.80e+01, 5.20e+04],\n",
       "        [0.00e+00, 1.00e+00, 1.84e+02, 2.20e+01, 8.10e+04],\n",
       "        [1.00e+00, 0.00e+00, 2.20e+01, 3.40e+01, 4.30e+04],\n",
       "        [1.00e+00, 0.00e+00, 1.66e+02, 3.10e+01, 3.40e+04],\n",
       "        [1.00e+00, 0.00e+00, 4.50e+01, 4.90e+01, 3.60e+04],\n",
       "        [0.00e+00, 1.00e+00, 3.19e+02, 2.70e+01, 8.80e+04],\n",
       "        [0.00e+00, 1.00e+00, 1.70e+02, 4.10e+01, 5.20e+04],\n",
       "        [1.00e+00, 0.00e+00, 5.50e+01, 2.70e+01, 8.40e+04],\n",
       "        [0.00e+00, 1.00e+00, 3.92e+02, 3.50e+01, 2.00e+04],\n",
       "        [1.00e+00, 0.00e+00, 2.19e+02, 4.30e+01, 1.12e+05],\n",
       "        [1.00e+00, 0.00e+00, 1.33e+02, 2.70e+01, 5.80e+04],\n",
       "        [1.00e+00, 0.00e+00, 3.65e+02, 3.70e+01, 8.00e+04],\n",
       "        [1.00e+00, 0.00e+00, 2.98e+02, 5.20e+01, 9.00e+04],\n",
       "        [0.00e+00, 1.00e+00, 3.15e+02, 2.60e+01, 3.00e+04],\n",
       "        [0.00e+00, 1.00e+00, 8.10e+01, 4.90e+01, 8.60e+04],\n",
       "        [1.00e+00, 0.00e+00, 3.38e+02, 5.70e+01, 1.22e+05],\n",
       "        [1.00e+00, 0.00e+00, 9.50e+01, 3.40e+01, 2.50e+04],\n",
       "        [1.00e+00, 0.00e+00, 0.00e+00, 3.50e+01, 5.70e+04],\n",
       "        [0.00e+00, 1.00e+00, 3.00e+00, 3.40e+01, 1.15e+05],\n",
       "        [1.00e+00, 0.00e+00, 7.30e+01, 5.90e+01, 8.80e+04],\n",
       "        [0.00e+00, 1.00e+00, 2.83e+02, 4.50e+01, 3.20e+04],\n",
       "        [1.00e+00, 0.00e+00, 2.86e+02, 2.90e+01, 8.30e+04],\n",
       "        [1.00e+00, 0.00e+00, 2.00e+00, 2.60e+01, 8.00e+04],\n",
       "        [0.00e+00, 1.00e+00, 3.63e+02, 4.90e+01, 2.80e+04],\n",
       "        [0.00e+00, 1.00e+00, 1.16e+02, 2.30e+01, 2.00e+04],\n",
       "        [0.00e+00, 1.00e+00, 4.20e+01, 3.20e+01, 1.80e+04],\n",
       "        [0.00e+00, 1.00e+00, 3.60e+02, 6.00e+01, 4.20e+04],\n",
       "        [0.00e+00, 1.00e+00, 3.82e+02, 1.90e+01, 7.60e+04],\n",
       "        [0.00e+00, 1.00e+00, 2.13e+02, 3.60e+01, 9.90e+04],\n",
       "        [1.00e+00, 0.00e+00, 1.39e+02, 1.90e+01, 2.60e+04],\n",
       "        [0.00e+00, 1.00e+00, 3.34e+02, 6.00e+01, 8.30e+04],\n",
       "        [1.00e+00, 0.00e+00, 2.91e+02, 2.40e+01, 8.90e+04],\n",
       "        [0.00e+00, 1.00e+00, 2.63e+02, 2.70e+01, 5.80e+04],\n",
       "        [0.00e+00, 1.00e+00, 6.80e+01, 4.00e+01, 4.70e+04],\n",
       "        [1.00e+00, 0.00e+00, 2.41e+02, 4.20e+01, 7.00e+04],\n",
       "        [1.00e+00, 0.00e+00, 2.02e+02, 3.20e+01, 1.50e+05],\n",
       "        [1.00e+00, 0.00e+00, 3.93e+02, 3.50e+01, 7.70e+04],\n",
       "        [1.00e+00, 0.00e+00, 1.30e+01, 2.20e+01, 6.30e+04],\n",
       "        [0.00e+00, 1.00e+00, 1.25e+02, 4.50e+01, 2.20e+04],\n",
       "        [0.00e+00, 1.00e+00, 3.58e+02, 2.70e+01, 8.90e+04],\n",
       "        [0.00e+00, 1.00e+00, 1.02e+02, 1.80e+01, 8.20e+04],\n",
       "        [1.00e+00, 0.00e+00, 3.25e+02, 4.20e+01, 7.90e+04],\n",
       "        [1.00e+00, 0.00e+00, 5.60e+01, 4.00e+01, 6.00e+04],\n",
       "        [1.00e+00, 0.00e+00, 3.43e+02, 5.30e+01, 3.40e+04],\n",
       "        [1.00e+00, 0.00e+00, 1.17e+02, 4.70e+01, 1.07e+05]]),\n",
       " array([1, 0, 0, 0, 1, 1, 0, 1, 1, 0, 0, 1, 0, 0, 0, 1, 0, 1, 1, 1, 0, 1,\n",
       "        0, 1, 1, 1, 0, 0, 0, 0, 0, 0, 1, 1, 1, 0, 1, 0, 0, 1, 0, 1, 0, 1,\n",
       "        0, 0, 1, 1, 1, 1, 0, 1, 0, 1, 0, 0, 1, 0, 0, 1, 0, 0, 0, 0, 0, 1,\n",
       "        1, 1, 1, 0, 0, 0, 1, 0, 1, 0, 1, 0, 0, 1, 0, 0, 0, 1, 0, 0, 0, 1,\n",
       "        1, 0, 0, 1, 0, 1, 1, 1, 0, 0, 1, 1, 0, 0, 1, 1, 0, 1, 0, 0, 1, 1,\n",
       "        0, 1, 1, 1, 0, 0, 0, 0, 0, 1, 0, 0, 1, 1, 1, 1, 1, 0, 1, 1, 0, 1,\n",
       "        0, 0, 0, 0, 0, 0, 0, 1, 1, 0, 0, 1, 0, 0, 1, 0, 0, 0, 1, 0, 1, 1,\n",
       "        0, 1, 0, 0, 0, 0, 1, 0, 0, 0, 1, 1, 0, 0, 0, 0, 1, 0, 1, 0, 0, 0,\n",
       "        1, 0, 0, 0, 0, 1, 1, 1, 0, 0, 0, 0, 0, 0, 1, 1, 1, 1, 1, 0, 1, 0,\n",
       "        0, 0, 0, 0, 1, 0, 0, 0, 0, 0, 0, 1, 1, 0, 1, 0, 1, 0, 0, 1, 0, 0,\n",
       "        0, 1, 0, 0, 0, 0, 0, 1, 0, 0, 0, 0, 0, 1, 0, 1, 1, 0, 0, 0, 0, 0,\n",
       "        0, 1, 1, 0, 0, 0, 0, 1, 0, 0, 0, 0, 1, 0, 1, 0, 1, 0, 0, 0, 1, 0,\n",
       "        0, 0, 1, 0, 1, 0, 0, 0, 0, 0, 1, 1, 0, 0, 0, 0, 0, 1, 0, 1, 1, 0,\n",
       "        0, 0, 0, 0, 1, 0, 1, 0, 0, 1, 0, 0, 1, 0, 1, 0, 0, 0, 0, 0, 0, 1,\n",
       "        1, 1, 1, 0, 0, 0, 0, 1, 0, 0, 0, 0]),\n",
       " array([0, 0, 0, 0, 0, 0, 0, 1, 0, 0, 0, 0, 0, 0, 0, 0, 0, 0, 1, 0, 0, 1,\n",
       "        0, 1, 0, 1, 0, 0, 0, 0, 0, 1, 1, 0, 0, 0, 0, 0, 0, 1, 0, 0, 0, 0,\n",
       "        1, 0, 0, 1, 0, 1, 1, 0, 0, 0, 1, 1, 0, 0, 1, 0, 0, 1, 0, 1, 0, 1,\n",
       "        0, 0, 0, 0, 1, 0, 0, 1, 0, 0, 0, 0, 1, 1]))"
      ]
     },
     "execution_count": 19,
     "metadata": {},
     "output_type": "execute_result"
    }
   ],
   "source": [
    "from sklearn.model_selection import train_test_split\n",
    "X_train, X_test, y_train, y_test = train_test_split(Xs, y, test_size=0.2, random_state=0)\n",
    "X_train, X_test, y_train, y_test"
   ]
  },
  {
   "cell_type": "markdown",
   "metadata": {
    "collapsed": true
   },
   "source": [
    "### Lecture 16: Feature Scaling\n",
    "- There's two of feature scaling\n",
    "    - Standarisation: Xstand = x-mean(x)/(std. dev. (x))\n",
    "    - Normalisation: Xnorm = x-min(x)/max(x)-min(x)\n",
    "- A great point was what should we do for values that do need to be feature scaling\n",
    "- the response is for each on its own!"
   ]
  },
  {
   "cell_type": "code",
   "execution_count": 20,
   "metadata": {},
   "outputs": [
    {
     "data": {
      "text/plain": [
       "array([[-1.02532046,  1.02532046, -0.48255451,  1.92295008,  2.14601566],\n",
       "       [ 0.97530483, -0.97530483, -1.15951553,  2.02016082,  0.3787193 ],\n",
       "       [ 0.97530483, -0.97530483, -0.65838854, -1.3822153 , -0.4324987 ],\n",
       "       ...,\n",
       "       [-1.02532046,  1.02532046, -1.40568317, -0.21568634, -0.51941492],\n",
       "       [ 0.97530483, -0.97530483,  1.23182727, -1.09058306, -0.46147078],\n",
       "       [ 0.97530483, -0.97530483,  1.49557832, -1.18779381,  1.3927418 ]])"
      ]
     },
     "execution_count": 20,
     "metadata": {},
     "output_type": "execute_result"
    }
   ],
   "source": [
    "from sklearn.preprocessing import StandardScaler\n",
    "\n",
    "sc_X = StandardScaler()\n",
    "X_train = sc_X.fit_transform(X_train)\n",
    "\n",
    "# Noticed how we are only using the transform and not the fit transform,\n",
    "# this is because if we already fit, there's no need to fit it again\n",
    "X_test = sc_X.transform(X_test)\n",
    "\n",
    "X_train"
   ]
  }
 ],
 "metadata": {
  "kernelspec": {
   "display_name": "Python 3",
   "language": "python",
   "name": "python3"
  },
  "language_info": {
   "codemirror_mode": {
    "name": "ipython",
    "version": 3
   },
   "file_extension": ".py",
   "mimetype": "text/x-python",
   "name": "python",
   "nbconvert_exporter": "python",
   "pygments_lexer": "ipython3",
   "version": "3.6.5"
  }
 },
 "nbformat": 4,
 "nbformat_minor": 2
}
